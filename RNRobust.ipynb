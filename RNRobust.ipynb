{
 "cells": [
  {
   "cell_type": "markdown",
   "metadata": {},
   "source": [
    "# Measuring plasticity in Boolean Networks\n",
    "\n",
    "\n",
    "Plasticity is important, evolution has selected the ability to dynamicaly respond to the environment. \n",
    "At the same time, there are situations where changing the phenotype is not ideal.\n",
    "However, an open question is how to compare the robustness/plasticity between networks.\n",
    "* Define plasticity, stability, and robustness\n",
    "* Example, the immune system.\n",
    "\n",
    "Plasticity is not the result of a single molecule, but of a complex network. We can predict the changes in the phenotype in response to multiple kinds of perturbations using systems biology. \n",
    "* Boolean networks and plasticity measures\n",
    "\n",
    "We need to define robustness and create indexes. This is further complicated because it is hard to compare biological systems. To validate biologicaly we use the CD4+ T cell regulatory network. There is experimental observations of not only plasticity, but which transitions are more comonly observed. \n",
    "\n",
    "We present a first approach to measure the robustness of networks to changes in the functions, environment, transition schema, and transient perturbations in the value of the nodes.\n",
    "\n",
    "Each type of perturbation can be used to study different biological phenomena.\n",
    "\n",
    "\n",
    "\n",
    "|\tTarget\t|\tPerturbation\t|\tBiological equivalent\t|\n",
    "|----|----|----|----|\n",
    "|\tFunctions\t|Fixed functions|Knock-ot and over expressions mutants\t|\n",
    "|\t\t\t\t|Fixed inputs\t|Permanent changes in environment\t|\n",
    "|\t\t\t\t|Truth table\t|Small changes in regulation, evolvability, network misconstruction\t|\n",
    "|\tUpdating\t|Update schema\t|Time and hierarchy of biological processes\t|\n",
    "|\tState\t\t|Node state\t\t|Temporal changes in expression, stochastic processes\t|\n",
    "|\t\t\t\t|Input state\t|Transient environmental signals\t|\n",
    "\n",
    "We divide the network in subnetworks. Th1/Th2, Th2/Treg and Treg/Th17, calculate the robustness of the attractrs to < perturbations >. We validate against biological data. "
   ]
  },
  {
   "cell_type": "markdown",
   "metadata": {},
   "source": [
    "## Methods\n",
    "\n",
    "Here is a library and a network"
   ]
  },
  {
   "cell_type": "markdown",
   "metadata": {},
   "source": [
    "## Results\n",
    "\n",
    "### How do we separate the networks\n",
    "CD4+ T cell network is well studied. Both models and experimental data.\n",
    "\n",
    "Cell types are defined by TF and characteristic cytokine. Correspond to attractors.\n",
    "\n",
    "We study subnetworks five subnode networks\n",
    "    - 2 TF\n",
    "    - 3 signaling pathway\n",
    "        - 2 are characteristic cytokines\n",
    "        - IL2 is present in all networks\n",
    "    - Diferent interactions\n",
    "\n",
    "The networks:\n",
    "    - Th1/Th2: strong mutual inhibition at signaling and TF level, shared cytokine IL2 activates Th2\n",
    "    - Treg/Th2: signaling pathways inhibit TF, IL2 activates both, IL2 has negative feedback loop with Foxp3\n",
    "    - Treg/Th17: complex inhibition, RORgt lacks feedback loop, TGFB necessary for both, IL2 inhibit STAT3 pathway and has negative feedback loop with FOXP3.\n",
    "    \n",
    "### Attractors and labeling\n",
    "\n",
    "The attractors: \n",
    "    - Th1/Th2: Th0, Th1, Th2 also GATA3+\n",
    "    - Treg/Th2: Th0, Th2, Treg (depends IL2e) also GATA3+, Th3 and Th0+ that correspond to Th9 conditions in whole network and depend on IL4e\n",
    "    - Treg/Th17: Th0, Th17 (depends TGFBe), Treg (depends IL2e) also Th3. \n",
    "    \n",
    "__Labels__\n",
    "\n",
    "Also, simplify analysis. Multiple approches for this, we focus in characteristic TF and cytokines.\n",
    "\n",
    "In networks with many inputs there are equivalent attractors, important to determine if cell type depends on environment.\n",
    "\n",
    "Furthermore, expresion is heterogeneous and cell types are defined by markers, (example Th2). See cell cycle and RNAseq data.\n"
   ]
  },
  {
   "cell_type": "markdown",
   "metadata": {},
   "source": [
    "<img src=\"Figures/ThCompare-GraphAttr.svg\">"
   ]
  },
  {
   "cell_type": "markdown",
   "metadata": {},
   "source": [
    "### Fixed functions\n",
    "\n",
    "### \n",
    "\n"
   ]
  },
  {
   "cell_type": "markdown",
   "metadata": {},
   "source": [
    "## Discussion\n",
    "\n",
    "* Structure of regulatory network determines plasticity\n",
    "* Different perturbations affect the network in different ways\n",
    "* Feedback loops are critical for plasticity\n",
    "    * Positive selfregulatory loops increase stability\n",
    "    * Environmental dependece is consecuence of negative feedback loop\n",
    "    * Inhibitions\n",
    "* Need to develop formal definitions and indexes"
   ]
  }
 ],
 "metadata": {
  "kernelspec": {
   "display_name": "Python 3",
   "language": "python",
   "name": "python3"
  },
  "language_info": {
   "codemirror_mode": {
    "name": "ipython",
    "version": 3
   },
   "file_extension": ".py",
   "mimetype": "text/x-python",
   "name": "python",
   "nbconvert_exporter": "python",
   "pygments_lexer": "ipython3",
   "version": "3.5.2"
  }
 },
 "nbformat": 4,
 "nbformat_minor": 2
}
