{
 "cells": [
  {
   "cell_type": "markdown",
   "metadata": {},
   "source": [
    "# Robustness Analyses in Boolean Regulatory Networks\n",
    "\n",
    "    [ ] Introduction\n",
    "        [ ] Biology and robustness.\n",
    "        [ ] Boolean networks\n",
    "        [ ] Previous pipelines\n",
    "    [ ] Methods\n",
    "    [ ] Results\n",
    "        [ ] Labels\n",
    "            [ ] Markers\n",
    "            [ ] PCA and machine learning\n",
    "        [ ] Topology\n",
    "            [ ] griffin\n",
    "        [ ] Functions\n",
    "            [ ] KOver\n",
    "            [ ] Inputs\n",
    "            [ ] Truth table\n",
    "        [ ] Transition space\n",
    "            [ ] Basins\n",
    "            [ ] Update\n",
    "            [ ] Reverse network naldi\n",
    "            [ ] Transitions boolnet and griffin\n",
    "        [ ] States and attractors\n",
    "            [ ] Trajectory\n",
    "            [ ] Attractors\n",
    "    [ ] Conclusions\n",
    "\n"
   ]
  },
  {
   "cell_type": "markdown",
   "metadata": {},
   "source": [
    "## Introduction\n",
    "\n",
    "    [ ] Biology and robustness.\n",
    "    [ ] Boolean networks\n",
    "    [ ] Previous pipelines\n"
   ]
  },
  {
   "cell_type": "markdown",
   "metadata": {},
   "source": [
    "## Methods"
   ]
  },
  {
   "cell_type": "markdown",
   "metadata": {},
   "source": [
    "## Results\n",
    "\n",
    "    [ ] Labels\n",
    "         [ ] Markers\n",
    "         [ ] PCA and machine learning\n",
    "    [ ] Topology\n",
    "         [ ] griffin\n",
    "    [ ] Functions\n",
    "         [ ] KOver\n",
    "         [ ] Inputs\n",
    "         [ ] Truth table\n",
    "    [ ] Transition space\n",
    "         [ ] Update\n",
    "         [ ] Reverse network naldi\n",
    "         [ ] Transitions boolnet and griffin\n",
    "    [ ] States and attractors\n",
    "         [ ] Trajectory\n",
    "         [ ] Attractors\n",
    "\n"
   ]
  },
  {
   "cell_type": "code",
   "execution_count": 4,
   "metadata": {
    "collapsed": false
   },
   "outputs": [],
   "source": [
    "library('plyr')\n",
    "library('ggplot2')\n",
    "library('BoolNet')\n",
    "\n",
    "library(repr)\n",
    "options(repr.plot.width=4, repr.plot.height=3)"
   ]
  },
  {
   "cell_type": "code",
   "execution_count": 5,
   "metadata": {
    "collapsed": false
   },
   "outputs": [],
   "source": [
    "#library('BoolNetPerturb')\n",
    "source('code/BNP_Helper.R')\n",
    "source('code/BNP_Dataframe.R')\n",
    "source('code/BNP_Topology.R')\n",
    "source('code/BNP_Label.R')\n",
    "source('code/BNP_Perturbations.R')"
   ]
  },
  {
   "cell_type": "markdown",
   "metadata": {},
   "source": [
    "## Load data"
   ]
  },
  {
   "cell_type": "code",
   "execution_count": 6,
   "metadata": {
    "collapsed": true
   },
   "outputs": [],
   "source": [
    "netA <- loadNetwork('references/Th1Th2.csv')\n",
    "netB <- loadNetwork('references/Th2Treg.csv')\n",
    "netC <- loadNetwork('references/TregTh17.csv')\n",
    "\n",
    "#toSBML(netA, 'references/Th1Th2.sbml')\n",
    "#toSBML(netB, 'references/Th2Treg.sbml')\n",
    "#toSBML(netC, 'references/TregTh17.sbml')\n",
    "\n",
    "nets.names <- c(\"netA\", \"netB\", \"netC\")\n",
    "nets = list(netA, netB, netC)"
   ]
  },
  {
   "cell_type": "code",
   "execution_count": 7,
   "metadata": {
    "collapsed": true
   },
   "outputs": [],
   "source": [
    "rulesA <- data.frame( labels = c('Th0','Th1','Th2','TBET+','GATA3+'),\n",
    "        rules = c('!(GATA3 | TBET)', 'TBET & IFNG', 'GATA3 & IL4', 'TBET & !IFNG', 'GATA3 & !IL4')   )\n",
    "rulesB <- data.frame( labels = c('Th0','Th2','GATA3+','Treg', 'FOXP3+', 'Th3'),\n",
    "        rules = c('!(GATA3 | FOXP3 | TGFB)', 'GATA3 & IL4', 'GATA3 & !IL4', \n",
    "                  'FOXP3 & TGFB', 'FOXP3 & !TGFB', 'TGFB & !(FOXP3 | GATA3)')   )\n",
    "rulesC <- data.frame( labels = c('Th0','Th17','RORGT+','Treg', 'FOXP3+','Th3'),\n",
    "        rules = c('!(RORGT | FOXP3 | TGFB)', 'RORGT & IL21', 'RORGT & !IL21', \n",
    "                  'FOXP3 & TGFB', 'FOXP3 & !TGFB', 'TGFB & !(FOXP3 | RORGT)')   )\n",
    "\n",
    "label.rules <- list(rulesA,rulesB,rulesC)"
   ]
  },
  {
   "cell_type": "code",
   "execution_count": 8,
   "metadata": {
    "collapsed": false,
    "scrolled": true
   },
   "outputs": [],
   "source": [
    "envA <- list(\n",
    "        env=list('WT','pro-Th0','pro-Th1','pro-Th2'),\n",
    "        nodes=list(c(),c('IFNGe','IL2e','IL4e'),c('IFNGe','IL2e','IL4e'),c('IFNGe','IL2e','IL4e')),\n",
    "        value=list(c(0),c(0,0,0),c(1,1,0),c(0,1,1))\n",
    "        )\n",
    "envB <- list(\n",
    "        env=list('WT','pro-Th0','pro-Treg','pro-Th2'),\n",
    "        nodes=list(c(),c('TGFBe','IL2e','IL4e'),c('TGFBe','IL2e','IL4e'),c('TGFBe','IL2e','IL4e')),\n",
    "        value=list(c(0),c(0,0,0),c(1,1,0),c(0,1,1))\n",
    "        )\n",
    "envC <- list(\n",
    "        env=list('WT','pro-Th0','pro-Treg','pro-Th17'),\n",
    "        nodes=list(c(),c('TGFBe','IL2e','IL21e'),c('TGFBe','IL2e','IL21e'),c('TGFBe','IL2e','IL21e')),\n",
    "        value=list(c(0),c(0,0,0),c(1,1,0),c(1,0,1))\n",
    "        )\n",
    "envs <- list(envA, envB, envC)"
   ]
  },
  {
   "cell_type": "markdown",
   "metadata": {},
   "source": [
    "## Topology"
   ]
  },
  {
   "cell_type": "code",
   "execution_count": 9,
   "metadata": {},
   "outputs": [
    {
     "data": {
      "text/html": [
       "<table>\n",
       "<thead><tr><th scope=col>Source</th><th scope=col>Target</th><th scope=col>Interaction</th></tr></thead>\n",
       "<tbody>\n",
       "\t<tr><td>FOXP3</td><td>FOXP3</td><td>+    </td></tr>\n",
       "\t<tr><td>TGFB </td><td>FOXP3</td><td>+    </td></tr>\n",
       "\t<tr><td>IL2  </td><td>FOXP3</td><td>+    </td></tr>\n",
       "\t<tr><td>IL21 </td><td>FOXP3</td><td>-    </td></tr>\n",
       "\t<tr><td>RORGT</td><td>FOXP3</td><td>-    </td></tr>\n",
       "\t<tr><td>FOXP3</td><td>TGFB </td><td>+    </td></tr>\n",
       "\t<tr><td>TGFB </td><td>TGFB </td><td>+    </td></tr>\n",
       "\t<tr><td>IL21 </td><td>TGFB </td><td>-    </td></tr>\n",
       "\t<tr><td>TGFBe</td><td>TGFB </td><td>+    </td></tr>\n",
       "\t<tr><td>FOXP3</td><td>IL2  </td><td>-    </td></tr>\n",
       "\t<tr><td>IL2  </td><td>IL2  </td><td>+    </td></tr>\n",
       "\t<tr><td>IL21 </td><td>IL2  </td><td>-    </td></tr>\n",
       "\t<tr><td>IL2e </td><td>IL2  </td><td>+    </td></tr>\n",
       "\t<tr><td>IL2  </td><td>IL21 </td><td>-    </td></tr>\n",
       "\t<tr><td>IL21 </td><td>IL21 </td><td>+    </td></tr>\n",
       "\t<tr><td>RORGT</td><td>IL21 </td><td>+    </td></tr>\n",
       "\t<tr><td>IL21e</td><td>IL21 </td><td>+    </td></tr>\n",
       "\t<tr><td>FOXP3</td><td>RORGT</td><td>-    </td></tr>\n",
       "\t<tr><td>TGFB </td><td>RORGT</td><td>+    </td></tr>\n",
       "\t<tr><td>IL21 </td><td>RORGT</td><td>+    </td></tr>\n",
       "\t<tr><td>TGFBe</td><td>TGFBe</td><td>+    </td></tr>\n",
       "\t<tr><td>IL2e </td><td>IL2e </td><td>+    </td></tr>\n",
       "\t<tr><td>IL21e</td><td>IL21e</td><td>+    </td></tr>\n",
       "</tbody>\n",
       "</table>\n"
      ],
      "text/latex": [
       "\\begin{tabular}{r|lll}\n",
       " Source & Target & Interaction\\\\\n",
       "\\hline\n",
       "\t FOXP3 & FOXP3 & +    \\\\\n",
       "\t TGFB  & FOXP3 & +    \\\\\n",
       "\t IL2   & FOXP3 & +    \\\\\n",
       "\t IL21  & FOXP3 & -    \\\\\n",
       "\t RORGT & FOXP3 & -    \\\\\n",
       "\t FOXP3 & TGFB  & +    \\\\\n",
       "\t TGFB  & TGFB  & +    \\\\\n",
       "\t IL21  & TGFB  & -    \\\\\n",
       "\t TGFBe & TGFB  & +    \\\\\n",
       "\t FOXP3 & IL2   & -    \\\\\n",
       "\t IL2   & IL2   & +    \\\\\n",
       "\t IL21  & IL2   & -    \\\\\n",
       "\t IL2e  & IL2   & +    \\\\\n",
       "\t IL2   & IL21  & -    \\\\\n",
       "\t IL21  & IL21  & +    \\\\\n",
       "\t RORGT & IL21  & +    \\\\\n",
       "\t IL21e & IL21  & +    \\\\\n",
       "\t FOXP3 & RORGT & -    \\\\\n",
       "\t TGFB  & RORGT & +    \\\\\n",
       "\t IL21  & RORGT & +    \\\\\n",
       "\t TGFBe & TGFBe & +    \\\\\n",
       "\t IL2e  & IL2e  & +    \\\\\n",
       "\t IL21e & IL21e & +    \\\\\n",
       "\\end{tabular}\n"
      ],
      "text/markdown": [
       "\n",
       "Source | Target | Interaction | \n",
       "|---|---|---|---|---|---|---|---|---|---|---|---|---|---|---|---|---|---|---|---|---|---|---|\n",
       "| FOXP3 | FOXP3 | +     | \n",
       "| TGFB  | FOXP3 | +     | \n",
       "| IL2   | FOXP3 | +     | \n",
       "| IL21  | FOXP3 | -     | \n",
       "| RORGT | FOXP3 | -     | \n",
       "| FOXP3 | TGFB  | +     | \n",
       "| TGFB  | TGFB  | +     | \n",
       "| IL21  | TGFB  | -     | \n",
       "| TGFBe | TGFB  | +     | \n",
       "| FOXP3 | IL2   | -     | \n",
       "| IL2   | IL2   | +     | \n",
       "| IL21  | IL2   | -     | \n",
       "| IL2e  | IL2   | +     | \n",
       "| IL2   | IL21  | -     | \n",
       "| IL21  | IL21  | +     | \n",
       "| RORGT | IL21  | +     | \n",
       "| IL21e | IL21  | +     | \n",
       "| FOXP3 | RORGT | -     | \n",
       "| TGFB  | RORGT | +     | \n",
       "| IL21  | RORGT | +     | \n",
       "| TGFBe | TGFBe | +     | \n",
       "| IL2e  | IL2e  | +     | \n",
       "| IL21e | IL21e | +     | \n",
       "\n",
       "\n"
      ],
      "text/plain": [
       "   Source Target Interaction\n",
       "1  FOXP3  FOXP3  +          \n",
       "2  TGFB   FOXP3  +          \n",
       "3  IL2    FOXP3  +          \n",
       "4  IL21   FOXP3  -          \n",
       "5  RORGT  FOXP3  -          \n",
       "6  FOXP3  TGFB   +          \n",
       "7  TGFB   TGFB   +          \n",
       "8  IL21   TGFB   -          \n",
       "9  TGFBe  TGFB   +          \n",
       "10 FOXP3  IL2    -          \n",
       "11 IL2    IL2    +          \n",
       "12 IL21   IL2    -          \n",
       "13 IL2e   IL2    +          \n",
       "14 IL2    IL21   -          \n",
       "15 IL21   IL21   +          \n",
       "16 RORGT  IL21   +          \n",
       "17 IL21e  IL21   +          \n",
       "18 FOXP3  RORGT  -          \n",
       "19 TGFB   RORGT  +          \n",
       "20 IL21   RORGT  +          \n",
       "21 TGFBe  TGFBe  +          \n",
       "22 IL2e   IL2e   +          \n",
       "23 IL21e  IL21e  +          "
      ]
     },
     "metadata": {},
     "output_type": "display_data"
    }
   ],
   "source": [
    "getNetTopology(netC)"
   ]
  },
  {
   "cell_type": "code",
   "execution_count": 10,
   "metadata": {
    "collapsed": false
   },
   "outputs": [
    {
     "data": {
      "text/plain": [
       "[[1]]\n",
       "\n",
       " -  + NA \n",
       " 9 16  1 \n",
       "\n",
       "[[2]]\n",
       "\n",
       " -  + NA \n",
       " 3 17  1 \n",
       "\n",
       "[[3]]\n",
       "\n",
       " -  + \n",
       " 7 16 \n"
      ]
     },
     "metadata": {},
     "output_type": "display_data"
    }
   ],
   "source": [
    "nets.topo <- lapply(nets, getNetTopology)\n",
    "lapply(nets.topo, function(x) table(x$Interaction) )"
   ]
  },
  {
   "cell_type": "markdown",
   "metadata": {},
   "source": [
    "## Labels"
   ]
  },
  {
   "cell_type": "code",
   "execution_count": 11,
   "metadata": {},
   "outputs": [
    {
     "data": {
      "text/html": [
       "<table>\n",
       "<thead><tr><th scope=col>attractor</th><th scope=col>state</th><th scope=col>FOXP3</th><th scope=col>TGFB</th><th scope=col>IL2</th><th scope=col>IL21</th><th scope=col>RORGT</th><th scope=col>TGFBe</th><th scope=col>IL2e</th><th scope=col>IL21e</th><th scope=col>label</th></tr></thead>\n",
       "<tbody>\n",
       "\t<tr><td> 1    </td><td>1     </td><td>0     </td><td>0     </td><td>0     </td><td>0     </td><td>0     </td><td>0     </td><td>0     </td><td>0     </td><td>Th0   </td></tr>\n",
       "\t<tr><td> 2    </td><td>1     </td><td>0     </td><td>1     </td><td>0     </td><td>0     </td><td>0     </td><td>0     </td><td>0     </td><td>0     </td><td>Th3   </td></tr>\n",
       "\t<tr><td> 3    </td><td>1     </td><td>0     </td><td>0     </td><td>1     </td><td>0     </td><td>0     </td><td>0     </td><td>0     </td><td>0     </td><td>Th0   </td></tr>\n",
       "\t<tr><td> 4    </td><td>1     </td><td>0     </td><td>0     </td><td>0     </td><td>1     </td><td>0     </td><td>0     </td><td>0     </td><td>0     </td><td>Th0   </td></tr>\n",
       "\t<tr><td> 5    </td><td>1     </td><td>0     </td><td>1     </td><td>0     </td><td>0     </td><td>0     </td><td>1     </td><td>0     </td><td>0     </td><td>Th3   </td></tr>\n",
       "\t<tr><td> 6    </td><td>1     </td><td>0     </td><td>1     </td><td>0     </td><td>1     </td><td>1     </td><td>1     </td><td>0     </td><td>0     </td><td>Th17  </td></tr>\n",
       "\t<tr><td> 7    </td><td>1     </td><td>0     </td><td>0     </td><td>1     </td><td>0     </td><td>0     </td><td>0     </td><td>1     </td><td>0     </td><td>Th0   </td></tr>\n",
       "\t<tr><td> 8    </td><td>1     </td><td>1     </td><td>1     </td><td>1     </td><td>0     </td><td>0     </td><td>0     </td><td>1     </td><td>0     </td><td>Treg  </td></tr>\n",
       "\t<tr><td> 9    </td><td>1     </td><td>0     </td><td>0     </td><td>0     </td><td>1     </td><td>0     </td><td>0     </td><td>1     </td><td>0     </td><td>Th0   </td></tr>\n",
       "\t<tr><td>10    </td><td>1     </td><td>1     </td><td>1     </td><td>1     </td><td>0     </td><td>0     </td><td>1     </td><td>1     </td><td>0     </td><td>Treg  </td></tr>\n",
       "\t<tr><td>11    </td><td>1     </td><td>0     </td><td>1     </td><td>0     </td><td>1     </td><td>1     </td><td>1     </td><td>1     </td><td>0     </td><td>Th17  </td></tr>\n",
       "\t<tr><td>12    </td><td>1     </td><td>0     </td><td>0     </td><td>0     </td><td>1     </td><td>0     </td><td>0     </td><td>0     </td><td>1     </td><td>Th0   </td></tr>\n",
       "\t<tr><td>13    </td><td>1     </td><td>0     </td><td>0     </td><td>1     </td><td>0     </td><td>0     </td><td>0     </td><td>0     </td><td>1     </td><td>Th0   </td></tr>\n",
       "\t<tr><td>14    </td><td>1     </td><td>0     </td><td>1     </td><td>0     </td><td>1     </td><td>1     </td><td>1     </td><td>0     </td><td>1     </td><td>Th17  </td></tr>\n",
       "\t<tr><td>15    </td><td>1     </td><td>0     </td><td>0     </td><td>1     </td><td>0     </td><td>0     </td><td>0     </td><td>1     </td><td>1     </td><td>Th0   </td></tr>\n",
       "\t<tr><td>16    </td><td>1     </td><td>1     </td><td>1     </td><td>1     </td><td>0     </td><td>0     </td><td>0     </td><td>1     </td><td>1     </td><td>Treg  </td></tr>\n",
       "\t<tr><td>17    </td><td>1     </td><td>0     </td><td>0     </td><td>0     </td><td>1     </td><td>0     </td><td>0     </td><td>1     </td><td>1     </td><td>Th0   </td></tr>\n",
       "\t<tr><td>18    </td><td>1     </td><td>1     </td><td>1     </td><td>1     </td><td>0     </td><td>0     </td><td>1     </td><td>1     </td><td>1     </td><td>Treg  </td></tr>\n",
       "\t<tr><td>19    </td><td>1     </td><td>0     </td><td>1     </td><td>0     </td><td>1     </td><td>1     </td><td>1     </td><td>1     </td><td>1     </td><td>Th17  </td></tr>\n",
       "\t<tr><td>20    </td><td>1     </td><td>0     </td><td>1     </td><td>1     </td><td>1     </td><td>0     </td><td>1     </td><td>1     </td><td>0     </td><td>Th3   </td></tr>\n",
       "\t<tr><td>20    </td><td>2     </td><td>0     </td><td>1     </td><td>0     </td><td>0     </td><td>1     </td><td>1     </td><td>1     </td><td>0     </td><td>RORGT+</td></tr>\n",
       "\t<tr><td>21    </td><td>1     </td><td>0     </td><td>0     </td><td>0     </td><td>0     </td><td>0     </td><td>0     </td><td>1     </td><td>1     </td><td>Th0   </td></tr>\n",
       "\t<tr><td>21    </td><td>2     </td><td>0     </td><td>0     </td><td>1     </td><td>1     </td><td>0     </td><td>0     </td><td>1     </td><td>1     </td><td>Th0   </td></tr>\n",
       "\t<tr><td>22    </td><td>1     </td><td>0     </td><td>1     </td><td>1     </td><td>1     </td><td>0     </td><td>1     </td><td>1     </td><td>1     </td><td>Th3   </td></tr>\n",
       "\t<tr><td>22    </td><td>2     </td><td>0     </td><td>1     </td><td>0     </td><td>0     </td><td>1     </td><td>1     </td><td>1     </td><td>1     </td><td>RORGT+</td></tr>\n",
       "</tbody>\n",
       "</table>\n"
      ],
      "text/latex": [
       "\\begin{tabular}{r|lllllllllll}\n",
       " attractor & state & FOXP3 & TGFB & IL2 & IL21 & RORGT & TGFBe & IL2e & IL21e & label\\\\\n",
       "\\hline\n",
       "\t  1     & 1      & 0      & 0      & 0      & 0      & 0      & 0      & 0      & 0      & Th0   \\\\\n",
       "\t  2     & 1      & 0      & 1      & 0      & 0      & 0      & 0      & 0      & 0      & Th3   \\\\\n",
       "\t  3     & 1      & 0      & 0      & 1      & 0      & 0      & 0      & 0      & 0      & Th0   \\\\\n",
       "\t  4     & 1      & 0      & 0      & 0      & 1      & 0      & 0      & 0      & 0      & Th0   \\\\\n",
       "\t  5     & 1      & 0      & 1      & 0      & 0      & 0      & 1      & 0      & 0      & Th3   \\\\\n",
       "\t  6     & 1      & 0      & 1      & 0      & 1      & 1      & 1      & 0      & 0      & Th17  \\\\\n",
       "\t  7     & 1      & 0      & 0      & 1      & 0      & 0      & 0      & 1      & 0      & Th0   \\\\\n",
       "\t  8     & 1      & 1      & 1      & 1      & 0      & 0      & 0      & 1      & 0      & Treg  \\\\\n",
       "\t  9     & 1      & 0      & 0      & 0      & 1      & 0      & 0      & 1      & 0      & Th0   \\\\\n",
       "\t 10     & 1      & 1      & 1      & 1      & 0      & 0      & 1      & 1      & 0      & Treg  \\\\\n",
       "\t 11     & 1      & 0      & 1      & 0      & 1      & 1      & 1      & 1      & 0      & Th17  \\\\\n",
       "\t 12     & 1      & 0      & 0      & 0      & 1      & 0      & 0      & 0      & 1      & Th0   \\\\\n",
       "\t 13     & 1      & 0      & 0      & 1      & 0      & 0      & 0      & 0      & 1      & Th0   \\\\\n",
       "\t 14     & 1      & 0      & 1      & 0      & 1      & 1      & 1      & 0      & 1      & Th17  \\\\\n",
       "\t 15     & 1      & 0      & 0      & 1      & 0      & 0      & 0      & 1      & 1      & Th0   \\\\\n",
       "\t 16     & 1      & 1      & 1      & 1      & 0      & 0      & 0      & 1      & 1      & Treg  \\\\\n",
       "\t 17     & 1      & 0      & 0      & 0      & 1      & 0      & 0      & 1      & 1      & Th0   \\\\\n",
       "\t 18     & 1      & 1      & 1      & 1      & 0      & 0      & 1      & 1      & 1      & Treg  \\\\\n",
       "\t 19     & 1      & 0      & 1      & 0      & 1      & 1      & 1      & 1      & 1      & Th17  \\\\\n",
       "\t 20     & 1      & 0      & 1      & 1      & 1      & 0      & 1      & 1      & 0      & Th3   \\\\\n",
       "\t 20     & 2      & 0      & 1      & 0      & 0      & 1      & 1      & 1      & 0      & RORGT+\\\\\n",
       "\t 21     & 1      & 0      & 0      & 0      & 0      & 0      & 0      & 1      & 1      & Th0   \\\\\n",
       "\t 21     & 2      & 0      & 0      & 1      & 1      & 0      & 0      & 1      & 1      & Th0   \\\\\n",
       "\t 22     & 1      & 0      & 1      & 1      & 1      & 0      & 1      & 1      & 1      & Th3   \\\\\n",
       "\t 22     & 2      & 0      & 1      & 0      & 0      & 1      & 1      & 1      & 1      & RORGT+\\\\\n",
       "\\end{tabular}\n"
      ],
      "text/markdown": [
       "\n",
       "attractor | state | FOXP3 | TGFB | IL2 | IL21 | RORGT | TGFBe | IL2e | IL21e | label | \n",
       "|---|---|---|---|---|---|---|---|---|---|---|---|---|---|---|---|---|---|---|---|---|---|---|---|---|\n",
       "|  1     | 1      | 0      | 0      | 0      | 0      | 0      | 0      | 0      | 0      | Th0    | \n",
       "|  2     | 1      | 0      | 1      | 0      | 0      | 0      | 0      | 0      | 0      | Th3    | \n",
       "|  3     | 1      | 0      | 0      | 1      | 0      | 0      | 0      | 0      | 0      | Th0    | \n",
       "|  4     | 1      | 0      | 0      | 0      | 1      | 0      | 0      | 0      | 0      | Th0    | \n",
       "|  5     | 1      | 0      | 1      | 0      | 0      | 0      | 1      | 0      | 0      | Th3    | \n",
       "|  6     | 1      | 0      | 1      | 0      | 1      | 1      | 1      | 0      | 0      | Th17   | \n",
       "|  7     | 1      | 0      | 0      | 1      | 0      | 0      | 0      | 1      | 0      | Th0    | \n",
       "|  8     | 1      | 1      | 1      | 1      | 0      | 0      | 0      | 1      | 0      | Treg   | \n",
       "|  9     | 1      | 0      | 0      | 0      | 1      | 0      | 0      | 1      | 0      | Th0    | \n",
       "| 10     | 1      | 1      | 1      | 1      | 0      | 0      | 1      | 1      | 0      | Treg   | \n",
       "| 11     | 1      | 0      | 1      | 0      | 1      | 1      | 1      | 1      | 0      | Th17   | \n",
       "| 12     | 1      | 0      | 0      | 0      | 1      | 0      | 0      | 0      | 1      | Th0    | \n",
       "| 13     | 1      | 0      | 0      | 1      | 0      | 0      | 0      | 0      | 1      | Th0    | \n",
       "| 14     | 1      | 0      | 1      | 0      | 1      | 1      | 1      | 0      | 1      | Th17   | \n",
       "| 15     | 1      | 0      | 0      | 1      | 0      | 0      | 0      | 1      | 1      | Th0    | \n",
       "| 16     | 1      | 1      | 1      | 1      | 0      | 0      | 0      | 1      | 1      | Treg   | \n",
       "| 17     | 1      | 0      | 0      | 0      | 1      | 0      | 0      | 1      | 1      | Th0    | \n",
       "| 18     | 1      | 1      | 1      | 1      | 0      | 0      | 1      | 1      | 1      | Treg   | \n",
       "| 19     | 1      | 0      | 1      | 0      | 1      | 1      | 1      | 1      | 1      | Th17   | \n",
       "| 20     | 1      | 0      | 1      | 1      | 1      | 0      | 1      | 1      | 0      | Th3    | \n",
       "| 20     | 2      | 0      | 1      | 0      | 0      | 1      | 1      | 1      | 0      | RORGT+ | \n",
       "| 21     | 1      | 0      | 0      | 0      | 0      | 0      | 0      | 1      | 1      | Th0    | \n",
       "| 21     | 2      | 0      | 0      | 1      | 1      | 0      | 0      | 1      | 1      | Th0    | \n",
       "| 22     | 1      | 0      | 1      | 1      | 1      | 0      | 1      | 1      | 1      | Th3    | \n",
       "| 22     | 2      | 0      | 1      | 0      | 0      | 1      | 1      | 1      | 1      | RORGT+ | \n",
       "\n",
       "\n"
      ],
      "text/plain": [
       "   attractor state FOXP3 TGFB IL2 IL21 RORGT TGFBe IL2e IL21e label \n",
       "1   1        1     0     0    0   0    0     0     0    0     Th0   \n",
       "2   2        1     0     1    0   0    0     0     0    0     Th3   \n",
       "3   3        1     0     0    1   0    0     0     0    0     Th0   \n",
       "4   4        1     0     0    0   1    0     0     0    0     Th0   \n",
       "5   5        1     0     1    0   0    0     1     0    0     Th3   \n",
       "6   6        1     0     1    0   1    1     1     0    0     Th17  \n",
       "7   7        1     0     0    1   0    0     0     1    0     Th0   \n",
       "8   8        1     1     1    1   0    0     0     1    0     Treg  \n",
       "9   9        1     0     0    0   1    0     0     1    0     Th0   \n",
       "10 10        1     1     1    1   0    0     1     1    0     Treg  \n",
       "11 11        1     0     1    0   1    1     1     1    0     Th17  \n",
       "12 12        1     0     0    0   1    0     0     0    1     Th0   \n",
       "13 13        1     0     0    1   0    0     0     0    1     Th0   \n",
       "14 14        1     0     1    0   1    1     1     0    1     Th17  \n",
       "15 15        1     0     0    1   0    0     0     1    1     Th0   \n",
       "16 16        1     1     1    1   0    0     0     1    1     Treg  \n",
       "17 17        1     0     0    0   1    0     0     1    1     Th0   \n",
       "18 18        1     1     1    1   0    0     1     1    1     Treg  \n",
       "19 19        1     0     1    0   1    1     1     1    1     Th17  \n",
       "20 20        1     0     1    1   1    0     1     1    0     Th3   \n",
       "21 20        2     0     1    0   0    1     1     1    0     RORGT+\n",
       "22 21        1     0     0    0   0    0     0     1    1     Th0   \n",
       "23 21        2     0     0    1   1    0     0     1    1     Th0   \n",
       "24 22        1     0     1    1   1    0     1     1    1     Th3   \n",
       "25 22        2     0     1    0   0    1     1     1    1     RORGT+"
      ]
     },
     "metadata": {},
     "output_type": "display_data"
    }
   ],
   "source": [
    "attrC <- getAttractors(netC)\n",
    "attrC.df <- attractor2dataframe(attrC, Boolean = TRUE)\n",
    "attrC.df[\"label\"] <- labelAttractors(attrC, rulesC, sep=NULL)\n",
    "attrC.df"
   ]
  },
  {
   "cell_type": "code",
   "execution_count": 12,
   "metadata": {
    "collapsed": false
   },
   "outputs": [
    {
     "data": {
      "text/html": [
       "<ol>\n",
       "\t<li>26</li>\n",
       "\t<li>20</li>\n",
       "\t<li>22</li>\n",
       "</ol>\n"
      ],
      "text/latex": [
       "\\begin{enumerate}\n",
       "\\item 26\n",
       "\\item 20\n",
       "\\item 22\n",
       "\\end{enumerate}\n"
      ],
      "text/markdown": [
       "1. 26\n",
       "2. 20\n",
       "3. 22\n",
       "\n",
       "\n"
      ],
      "text/plain": [
       "[[1]]\n",
       "[1] 26\n",
       "\n",
       "[[2]]\n",
       "[1] 20\n",
       "\n",
       "[[3]]\n",
       "[1] 22\n"
      ]
     },
     "metadata": {},
     "output_type": "display_data"
    }
   ],
   "source": [
    "nets.attr <- lapply(nets, getAttractors)\n",
    "lapply(nets.attr, function(x) length(x$attractors) )"
   ]
  },
  {
   "cell_type": "code",
   "execution_count": 13,
   "metadata": {
    "collapsed": false
   },
   "outputs": [
    {
     "data": {
      "text/plain": [
       "[[1]]\n",
       "\n",
       " GATA3+     Th0 Th0/Th0     Th1     Th2 \n",
       "      1       3       2       8      12 \n",
       "\n",
       "[[2]]\n",
       "\n",
       "GATA3+    Th0    Th2    Th3   Treg \n",
       "     1      3      6      8      2 \n",
       "\n",
       "[[3]]\n",
       "\n",
       "       Th0    Th0/Th0       Th17        Th3 Th3/RORGT+       Treg \n",
       "         9          1          4          2          2          4 \n"
      ]
     },
     "metadata": {},
     "output_type": "display_data"
    }
   ],
   "source": [
    "nets.attr.label <- mapply(function(x,y) {  labelAttractors(x,y)  }, \n",
    "                          x=nets.attr, y=label.rules)\n",
    "lapply(nets.attr.label, table )"
   ]
  },
  {
   "cell_type": "markdown",
   "metadata": {},
   "source": [
    "### Functions\n",
    "\n",
    "     [ ] KOver\n",
    "     [ ] Inputs\n",
    "     [ ] Truth table"
   ]
  },
  {
   "cell_type": "code",
   "execution_count": 14,
   "metadata": {},
   "outputs": [
    {
     "data": {
      "text/html": [
       "<table>\n",
       "<thead><tr><th></th><th scope=col>WT</th><th scope=col>FOXP3_0</th><th scope=col>TGFB_0</th><th scope=col>IL2_0</th><th scope=col>IL21_0</th><th scope=col>RORGT_0</th><th scope=col>TGFBe_0</th><th scope=col>IL2e_0</th><th scope=col>IL21e_0</th><th scope=col>FOXP3_1</th><th scope=col>TGFB_1</th><th scope=col>IL2_1</th><th scope=col>IL21_1</th><th scope=col>RORGT_1</th><th scope=col>TGFBe_1</th><th scope=col>IL2e_1</th><th scope=col>IL21e_1</th></tr></thead>\n",
       "<tbody>\n",
       "\t<tr><th scope=row>FOXP3+</th><td>0 </td><td> 0</td><td> 4</td><td>0 </td><td>0 </td><td>0 </td><td>0 </td><td>0 </td><td>0 </td><td> 4</td><td>0 </td><td>0 </td><td>0 </td><td> 0</td><td>0 </td><td>0 </td><td>0 </td></tr>\n",
       "\t<tr><th scope=row>FOXP3+/Treg</th><td>0 </td><td> 0</td><td> 0</td><td>0 </td><td>0 </td><td>0 </td><td>0 </td><td>0 </td><td>0 </td><td> 1</td><td>0 </td><td>0 </td><td>0 </td><td> 0</td><td>0 </td><td>0 </td><td>0 </td></tr>\n",
       "\t<tr><th scope=row>RORGT+</th><td>0 </td><td> 0</td><td> 0</td><td>0 </td><td>0 </td><td>0 </td><td>0 </td><td>0 </td><td>0 </td><td> 0</td><td>0 </td><td>0 </td><td>0 </td><td>12</td><td>0 </td><td>0 </td><td>0 </td></tr>\n",
       "\t<tr><th scope=row>RORGT+/Th17</th><td>0 </td><td> 0</td><td> 0</td><td>0 </td><td>0 </td><td>0 </td><td>0 </td><td>0 </td><td>0 </td><td> 0</td><td>0 </td><td>0 </td><td>0 </td><td> 4</td><td>0 </td><td>0 </td><td>0 </td></tr>\n",
       "\t<tr><th scope=row>Th0</th><td>9 </td><td> 9</td><td>18</td><td>6 </td><td>6 </td><td>9 </td><td>9 </td><td>5 </td><td>5 </td><td> 0</td><td>0 </td><td>4 </td><td>4 </td><td> 0</td><td>0 </td><td>4 </td><td>4 </td></tr>\n",
       "\t<tr><th scope=row>Th0/Th0</th><td>1 </td><td> 1</td><td> 2</td><td>0 </td><td>0 </td><td>1 </td><td>1 </td><td>0 </td><td>0 </td><td> 0</td><td>0 </td><td>0 </td><td>0 </td><td> 0</td><td>0 </td><td>1 </td><td>1 </td></tr>\n",
       "\t<tr><th scope=row>Th17</th><td>4 </td><td> 4</td><td> 0</td><td>4 </td><td>0 </td><td>0 </td><td>0 </td><td>2 </td><td>2 </td><td> 0</td><td>8 </td><td>0 </td><td>4 </td><td> 8</td><td>4 </td><td>2 </td><td>2 </td></tr>\n",
       "\t<tr><th scope=row>Th3</th><td>2 </td><td>10</td><td> 0</td><td>4 </td><td>4 </td><td>6 </td><td>1 </td><td>2 </td><td>2 </td><td> 0</td><td>2 </td><td>0 </td><td>0 </td><td> 0</td><td>1 </td><td>0 </td><td>0 </td></tr>\n",
       "\t<tr><th scope=row>Th3/RORGT+</th><td>2 </td><td> 2</td><td> 0</td><td>0 </td><td>0 </td><td>0 </td><td>0 </td><td>0 </td><td>1 </td><td> 0</td><td>4 </td><td>0 </td><td>0 </td><td> 0</td><td>2 </td><td>2 </td><td>1 </td></tr>\n",
       "\t<tr><th scope=row>Th3/Th3</th><td>0 </td><td> 0</td><td> 0</td><td>0 </td><td>0 </td><td>1 </td><td>0 </td><td>0 </td><td>0 </td><td> 0</td><td>0 </td><td>0 </td><td>0 </td><td> 0</td><td>0 </td><td>0 </td><td>0 </td></tr>\n",
       "\t<tr><th scope=row>Treg</th><td>4 </td><td> 0</td><td> 0</td><td>0 </td><td>4 </td><td>4 </td><td>2 </td><td>0 </td><td>2 </td><td>10</td><td>4 </td><td>8 </td><td>0 </td><td> 0</td><td>2 </td><td>4 </td><td>2 </td></tr>\n",
       "\t<tr><th scope=row>Treg/Treg</th><td>0 </td><td> 0</td><td> 0</td><td>0 </td><td>0 </td><td>0 </td><td>0 </td><td>0 </td><td>0 </td><td> 1</td><td>0 </td><td>0 </td><td>0 </td><td> 0</td><td>0 </td><td>0 </td><td>0 </td></tr>\n",
       "\t<tr><th scope=row>new</th><td>0 </td><td> 0</td><td> 1</td><td>0 </td><td>0 </td><td>1 </td><td>0 </td><td>0 </td><td>0 </td><td> 3</td><td>0 </td><td>0 </td><td>0 </td><td> 2</td><td>0 </td><td>0 </td><td>0 </td></tr>\n",
       "\t<tr><th scope=row>lost</th><td>0 </td><td> 1</td><td> 4</td><td>3 </td><td>3 </td><td>2 </td><td>2 </td><td>3 </td><td>1 </td><td> 5</td><td>2 </td><td>4 </td><td>4 </td><td> 5</td><td>2 </td><td>1 </td><td>1 </td></tr>\n",
       "</tbody>\n",
       "</table>\n"
      ],
      "text/latex": [
       "\\begin{tabular}{r|lllllllllllllllll}\n",
       "  & WT & FOXP3\\_0 & TGFB\\_0 & IL2\\_0 & IL21\\_0 & RORGT\\_0 & TGFBe\\_0 & IL2e\\_0 & IL21e\\_0 & FOXP3\\_1 & TGFB\\_1 & IL2\\_1 & IL21\\_1 & RORGT\\_1 & TGFBe\\_1 & IL2e\\_1 & IL21e\\_1\\\\\n",
       "\\hline\n",
       "\tFOXP3+ & 0  &  0 &  4 & 0  & 0  & 0  & 0  & 0  & 0  &  4 & 0  & 0  & 0  &  0 & 0  & 0  & 0 \\\\\n",
       "\tFOXP3+/Treg & 0  &  0 &  0 & 0  & 0  & 0  & 0  & 0  & 0  &  1 & 0  & 0  & 0  &  0 & 0  & 0  & 0 \\\\\n",
       "\tRORGT+ & 0  &  0 &  0 & 0  & 0  & 0  & 0  & 0  & 0  &  0 & 0  & 0  & 0  & 12 & 0  & 0  & 0 \\\\\n",
       "\tRORGT+/Th17 & 0  &  0 &  0 & 0  & 0  & 0  & 0  & 0  & 0  &  0 & 0  & 0  & 0  &  4 & 0  & 0  & 0 \\\\\n",
       "\tTh0 & 9  &  9 & 18 & 6  & 6  & 9  & 9  & 5  & 5  &  0 & 0  & 4  & 4  &  0 & 0  & 4  & 4 \\\\\n",
       "\tTh0/Th0 & 1  &  1 &  2 & 0  & 0  & 1  & 1  & 0  & 0  &  0 & 0  & 0  & 0  &  0 & 0  & 1  & 1 \\\\\n",
       "\tTh17 & 4  &  4 &  0 & 4  & 0  & 0  & 0  & 2  & 2  &  0 & 8  & 0  & 4  &  8 & 4  & 2  & 2 \\\\\n",
       "\tTh3 & 2  & 10 &  0 & 4  & 4  & 6  & 1  & 2  & 2  &  0 & 2  & 0  & 0  &  0 & 1  & 0  & 0 \\\\\n",
       "\tTh3/RORGT+ & 2  &  2 &  0 & 0  & 0  & 0  & 0  & 0  & 1  &  0 & 4  & 0  & 0  &  0 & 2  & 2  & 1 \\\\\n",
       "\tTh3/Th3 & 0  &  0 &  0 & 0  & 0  & 1  & 0  & 0  & 0  &  0 & 0  & 0  & 0  &  0 & 0  & 0  & 0 \\\\\n",
       "\tTreg & 4  &  0 &  0 & 0  & 4  & 4  & 2  & 0  & 2  & 10 & 4  & 8  & 0  &  0 & 2  & 4  & 2 \\\\\n",
       "\tTreg/Treg & 0  &  0 &  0 & 0  & 0  & 0  & 0  & 0  & 0  &  1 & 0  & 0  & 0  &  0 & 0  & 0  & 0 \\\\\n",
       "\tnew & 0  &  0 &  1 & 0  & 0  & 1  & 0  & 0  & 0  &  3 & 0  & 0  & 0  &  2 & 0  & 0  & 0 \\\\\n",
       "\tlost & 0  &  1 &  4 & 3  & 3  & 2  & 2  & 3  & 1  &  5 & 2  & 4  & 4  &  5 & 2  & 1  & 1 \\\\\n",
       "\\end{tabular}\n"
      ],
      "text/markdown": [
       "\n",
       "| <!--/--> | WT | FOXP3_0 | TGFB_0 | IL2_0 | IL21_0 | RORGT_0 | TGFBe_0 | IL2e_0 | IL21e_0 | FOXP3_1 | TGFB_1 | IL2_1 | IL21_1 | RORGT_1 | TGFBe_1 | IL2e_1 | IL21e_1 | \n",
       "|---|---|---|---|---|---|---|---|---|---|---|---|---|---|\n",
       "| FOXP3+ | 0  |  0 |  4 | 0  | 0  | 0  | 0  | 0  | 0  |  4 | 0  | 0  | 0  |  0 | 0  | 0  | 0  | \n",
       "| FOXP3+/Treg | 0  |  0 |  0 | 0  | 0  | 0  | 0  | 0  | 0  |  1 | 0  | 0  | 0  |  0 | 0  | 0  | 0  | \n",
       "| RORGT+ | 0  |  0 |  0 | 0  | 0  | 0  | 0  | 0  | 0  |  0 | 0  | 0  | 0  | 12 | 0  | 0  | 0  | \n",
       "| RORGT+/Th17 | 0  |  0 |  0 | 0  | 0  | 0  | 0  | 0  | 0  |  0 | 0  | 0  | 0  |  4 | 0  | 0  | 0  | \n",
       "| Th0 | 9  |  9 | 18 | 6  | 6  | 9  | 9  | 5  | 5  |  0 | 0  | 4  | 4  |  0 | 0  | 4  | 4  | \n",
       "| Th0/Th0 | 1  |  1 |  2 | 0  | 0  | 1  | 1  | 0  | 0  |  0 | 0  | 0  | 0  |  0 | 0  | 1  | 1  | \n",
       "| Th17 | 4  |  4 |  0 | 4  | 0  | 0  | 0  | 2  | 2  |  0 | 8  | 0  | 4  |  8 | 4  | 2  | 2  | \n",
       "| Th3 | 2  | 10 |  0 | 4  | 4  | 6  | 1  | 2  | 2  |  0 | 2  | 0  | 0  |  0 | 1  | 0  | 0  | \n",
       "| Th3/RORGT+ | 2  |  2 |  0 | 0  | 0  | 0  | 0  | 0  | 1  |  0 | 4  | 0  | 0  |  0 | 2  | 2  | 1  | \n",
       "| Th3/Th3 | 0  |  0 |  0 | 0  | 0  | 1  | 0  | 0  | 0  |  0 | 0  | 0  | 0  |  0 | 0  | 0  | 0  | \n",
       "| Treg | 4  |  0 |  0 | 0  | 4  | 4  | 2  | 0  | 2  | 10 | 4  | 8  | 0  |  0 | 2  | 4  | 2  | \n",
       "| Treg/Treg | 0  |  0 |  0 | 0  | 0  | 0  | 0  | 0  | 0  |  1 | 0  | 0  | 0  |  0 | 0  | 0  | 0  | \n",
       "| new | 0  |  0 |  1 | 0  | 0  | 1  | 0  | 0  | 0  |  3 | 0  | 0  | 0  |  2 | 0  | 0  | 0  | \n",
       "| lost | 0  |  1 |  4 | 3  | 3  | 2  | 2  | 3  | 1  |  5 | 2  | 4  | 4  |  5 | 2  | 1  | 1  | \n",
       "\n",
       "\n"
      ],
      "text/plain": [
       "            WT FOXP3_0 TGFB_0 IL2_0 IL21_0 RORGT_0 TGFBe_0 IL2e_0 IL21e_0\n",
       "FOXP3+      0   0       4     0     0      0       0       0      0      \n",
       "FOXP3+/Treg 0   0       0     0     0      0       0       0      0      \n",
       "RORGT+      0   0       0     0     0      0       0       0      0      \n",
       "RORGT+/Th17 0   0       0     0     0      0       0       0      0      \n",
       "Th0         9   9      18     6     6      9       9       5      5      \n",
       "Th0/Th0     1   1       2     0     0      1       1       0      0      \n",
       "Th17        4   4       0     4     0      0       0       2      2      \n",
       "Th3         2  10       0     4     4      6       1       2      2      \n",
       "Th3/RORGT+  2   2       0     0     0      0       0       0      1      \n",
       "Th3/Th3     0   0       0     0     0      1       0       0      0      \n",
       "Treg        4   0       0     0     4      4       2       0      2      \n",
       "Treg/Treg   0   0       0     0     0      0       0       0      0      \n",
       "new         0   0       1     0     0      1       0       0      0      \n",
       "lost        0   1       4     3     3      2       2       3      1      \n",
       "            FOXP3_1 TGFB_1 IL2_1 IL21_1 RORGT_1 TGFBe_1 IL2e_1 IL21e_1\n",
       "FOXP3+       4      0      0     0       0      0       0      0      \n",
       "FOXP3+/Treg  1      0      0     0       0      0       0      0      \n",
       "RORGT+       0      0      0     0      12      0       0      0      \n",
       "RORGT+/Th17  0      0      0     0       4      0       0      0      \n",
       "Th0          0      0      4     4       0      0       4      4      \n",
       "Th0/Th0      0      0      0     0       0      0       1      1      \n",
       "Th17         0      8      0     4       8      4       2      2      \n",
       "Th3          0      2      0     0       0      1       0      0      \n",
       "Th3/RORGT+   0      4      0     0       0      2       2      1      \n",
       "Th3/Th3      0      0      0     0       0      0       0      0      \n",
       "Treg        10      4      8     0       0      2       4      2      \n",
       "Treg/Treg    1      0      0     0       0      0       0      0      \n",
       "new          3      0      0     0       2      0       0      0      \n",
       "lost         5      2      4     4       5      2       1      1      "
      ]
     },
     "metadata": {},
     "output_type": "display_data"
    }
   ],
   "source": [
    "netC.mut <- perturbNetworkFixedNodes(netC, label.rules=rulesC)\n",
    "rbind(\n",
    "    netC.mut,\n",
    "    countChangesDataframe(netC.mut, axis=2)\n",
    ")"
   ]
  },
  {
   "cell_type": "code",
   "execution_count": 15,
   "metadata": {},
   "outputs": [
    {
     "data": {
      "image/png": "[encoded data removed]",
      "text/plain": [
       "Plot with title “Labels win/loss by mutation”"
      ]
     },
     "metadata": {},
     "output_type": "display_data"
    }
   ],
   "source": [
    "nets.mut.label <- mapply(function(x,y) {  \n",
    "    perturbNetworkFixedNodes(x,label.rules=y)  },\n",
    "    x=nets, y=label.rules,\n",
    "    SIMPLIFY = F)\n",
    "\n",
    "# Normalize and save average, only counts labels\n",
    "nets.mut.avg <- lapply(nets.mut.label, function(n) {\n",
    "    res <- countChangesDataframe(n, axis=2)\n",
    "    res <- data.frame(res)\n",
    "    res['WT'] <- NULL\n",
    "    res <- res/sum(n$WT!=0)\n",
    "    rowMeans(res)\n",
    "})\n",
    "nets.mut.avg <- data.frame(nets.mut.avg)\n",
    "colnames(nets.mut.avg) = nets.names\n",
    "barplot(as.matrix(nets.mut.avg),\n",
    "        main=\"Labels win/loss by mutation\",\n",
    "        ylim=c(0,1), beside=F)"
   ]
  },
  {
   "cell_type": "code",
   "execution_count": 13,
   "metadata": {},
   "outputs": [
    {
     "data": {
      "text/html": [
       "<table>\n",
       "<thead><tr><th></th><th scope=col>WT</th><th scope=col>pro-Th0</th><th scope=col>pro-Treg</th><th scope=col>pro-Th17</th></tr></thead>\n",
       "<tbody>\n",
       "\t<tr><th scope=row>Th0</th><td>9</td><td>3</td><td>0</td><td>0</td></tr>\n",
       "\t<tr><th scope=row>Th0/Th0</th><td>1</td><td>0</td><td>0</td><td>0</td></tr>\n",
       "\t<tr><th scope=row>Th17</th><td>4</td><td>0</td><td>1</td><td>1</td></tr>\n",
       "\t<tr><th scope=row>Th3</th><td>2</td><td>1</td><td>0</td><td>0</td></tr>\n",
       "\t<tr><th scope=row>Th3/RORGT+</th><td>2</td><td>0</td><td>1</td><td>0</td></tr>\n",
       "\t<tr><th scope=row>Treg</th><td>4</td><td>0</td><td>1</td><td>0</td></tr>\n",
       "</tbody>\n",
       "</table>\n"
      ],
      "text/latex": [
       "\\begin{tabular}{r|llll}\n",
       "  & WT & pro-Th0 & pro-Treg & pro-Th17\\\\\n",
       "\\hline\n",
       "\tTh0 & 9 & 3 & 0 & 0\\\\\n",
       "\tTh0/Th0 & 1 & 0 & 0 & 0\\\\\n",
       "\tTh17 & 4 & 0 & 1 & 1\\\\\n",
       "\tTh3 & 2 & 1 & 0 & 0\\\\\n",
       "\tTh3/RORGT+ & 2 & 0 & 1 & 0\\\\\n",
       "\tTreg & 4 & 0 & 1 & 0\\\\\n",
       "\\end{tabular}\n"
      ],
      "text/markdown": [
       "\n",
       "| <!--/--> | WT | pro-Th0 | pro-Treg | pro-Th17 | \n",
       "|---|---|---|---|---|---|\n",
       "| Th0 | 9 | 3 | 0 | 0 | \n",
       "| Th0/Th0 | 1 | 0 | 0 | 0 | \n",
       "| Th17 | 4 | 0 | 1 | 1 | \n",
       "| Th3 | 2 | 1 | 0 | 0 | \n",
       "| Th3/RORGT+ | 2 | 0 | 1 | 0 | \n",
       "| Treg | 4 | 0 | 1 | 0 | \n",
       "\n",
       "\n"
      ],
      "text/plain": [
       "           WT pro-Th0 pro-Treg pro-Th17\n",
       "Th0        9  3       0        0       \n",
       "Th0/Th0    1  0       0        0       \n",
       "Th17       4  0       1        1       \n",
       "Th3        2  1       0        0       \n",
       "Th3/RORGT+ 2  0       1        0       \n",
       "Treg       4  0       1        0       "
      ]
     },
     "metadata": {},
     "output_type": "display_data"
    }
   ],
   "source": [
    "perturbNetworkFixedNodes(netC,\n",
    "                         genes=envC$nodes,\n",
    "                         values=envC$value,\n",
    "                         names=envC$env,\n",
    "                         label.rules=rulesC)"
   ]
  },
  {
   "cell_type": "code",
   "execution_count": 14,
   "metadata": {},
   "outputs": [
    {
     "data": {
      "image/png": "[encoded data removed]",
      "text/plain": [
       "Plot with title “Labels lost by environment”"
      ]
     },
     "metadata": {},
     "output_type": "display_data"
    }
   ],
   "source": [
    "nets.env.label <- mapply(function(x,y,z) {  perturbNetworkFixedNodes(x,\n",
    "                              y$nodes,y$value,y$env,\n",
    "                              label.rules=z)  },\n",
    "                            x=nets, y=envs, z=label.rules,\n",
    "                            SIMPLIFY = F)\n",
    "\n",
    "# Normalize and save average, only counts labels\n",
    "nets.env.avg <- lapply(nets.env.label, function(n) {\n",
    "    res <- countChangesDataframe(n, axis=2)\n",
    "    res <- data.frame(res)\n",
    "    res['WT'] <- NULL\n",
    "    res <- res/sum(n$WT!=0)\n",
    "    rowMeans(res)\n",
    "})\n",
    "nets.env.avg <- data.frame(nets.env.avg)\n",
    "colnames(nets.env.avg) = nets.names\n",
    "barplot(as.matrix(nets.env.avg),\n",
    "        main=\"Labels lost by environment\",\n",
    "        ylim=c(0,1), beside=F)"
   ]
  },
  {
   "cell_type": "code",
   "execution_count": 15,
   "metadata": {},
   "outputs": [
    {
     "data": {
      "text/html": [
       "<table>\n",
       "<thead><tr><th></th><th scope=col>WT</th><th scope=col>1</th><th scope=col>2</th><th scope=col>3</th><th scope=col>4</th><th scope=col>5</th><th scope=col>6</th><th scope=col>7</th><th scope=col>8</th><th scope=col>9</th><th scope=col>10</th></tr></thead>\n",
       "<tbody>\n",
       "\t<tr><th scope=row>Th0</th><td> 9</td><td> 9</td><td>NA</td><td> 5</td><td> 9</td><td> 9</td><td> 7</td><td> 9</td><td> 7</td><td> 4</td><td> 5</td></tr>\n",
       "\t<tr><th scope=row>Th0/Th0</th><td> 1</td><td> 1</td><td>NA</td><td>NA</td><td> 1</td><td> 1</td><td> 1</td><td> 1</td><td> 1</td><td> 1</td><td>NA</td></tr>\n",
       "\t<tr><th scope=row>Th0/Th0/Th0</th><td>NA</td><td>NA</td><td>NA</td><td>NA</td><td>NA</td><td>NA</td><td>NA</td><td>NA</td><td> 1</td><td>NA</td><td>NA</td></tr>\n",
       "\t<tr><th scope=row>Th17</th><td> 4</td><td> 4</td><td> 4</td><td> 2</td><td>NA</td><td> 4</td><td> 4</td><td> 4</td><td> 2</td><td> 2</td><td> 4</td></tr>\n",
       "\t<tr><th scope=row>Th3</th><td> 2</td><td> 2</td><td> 1</td><td> 2</td><td> 6</td><td> 2</td><td> 2</td><td> 2</td><td> 2</td><td>NA</td><td> 2</td></tr>\n",
       "\t<tr><th scope=row>Th3/RORGT+</th><td> 2</td><td> 2</td><td> 2</td><td>NA</td><td>NA</td><td> 1</td><td> 3</td><td> 2</td><td> 2</td><td> 1</td><td> 2</td></tr>\n",
       "\t<tr><th scope=row>Th3/Th17</th><td>NA</td><td>NA</td><td>NA</td><td>NA</td><td>NA</td><td>NA</td><td>NA</td><td>NA</td><td>NA</td><td>NA</td><td> 4</td></tr>\n",
       "\t<tr><th scope=row>Th3/Th17/RORGT+</th><td>NA</td><td>NA</td><td>NA</td><td>NA</td><td>NA</td><td>NA</td><td>NA</td><td>NA</td><td> 2</td><td>NA</td><td>NA</td></tr>\n",
       "\t<tr><th scope=row>Th3/Th3</th><td>NA</td><td>NA</td><td>NA</td><td>NA</td><td> 1</td><td>NA</td><td>NA</td><td>NA</td><td>NA</td><td>NA</td><td>NA</td></tr>\n",
       "\t<tr><th scope=row>Th3/Th3/RORGT+/Th0</th><td>NA</td><td>NA</td><td>NA</td><td>NA</td><td>NA</td><td>NA</td><td>NA</td><td>NA</td><td>NA</td><td>NA</td><td> 1</td></tr>\n",
       "\t<tr><th scope=row>Treg</th><td> 4</td><td> 4</td><td> 2</td><td>NA</td><td> 4</td><td> 4</td><td> 4</td><td> 4</td><td> 4</td><td> 2</td><td> 4</td></tr>\n",
       "\t<tr><th scope=row>new</th><td> 0</td><td> 0</td><td> 0</td><td> 0</td><td> 1</td><td> 0</td><td> 0</td><td> 0</td><td> 2</td><td> 0</td><td> 2</td></tr>\n",
       "\t<tr><th scope=row>lost</th><td> 0</td><td> 0</td><td> 2</td><td> 3</td><td> 2</td><td> 0</td><td> 0</td><td> 0</td><td> 0</td><td> 1</td><td> 1</td></tr>\n",
       "</tbody>\n",
       "</table>\n"
      ],
      "text/latex": [
       "\\begin{tabular}{r|lllllllllll}\n",
       "  & WT & 1 & 2 & 3 & 4 & 5 & 6 & 7 & 8 & 9 & 10\\\\\n",
       "\\hline\n",
       "\tTh0 &  9 &  9 & NA &  5 &  9 &  9 &  7 &  9 &  7 &  4 &  5\\\\\n",
       "\tTh0/Th0 &  1 &  1 & NA & NA &  1 &  1 &  1 &  1 &  1 &  1 & NA\\\\\n",
       "\tTh0/Th0/Th0 & NA & NA & NA & NA & NA & NA & NA & NA &  1 & NA & NA\\\\\n",
       "\tTh17 &  4 &  4 &  4 &  2 & NA &  4 &  4 &  4 &  2 &  2 &  4\\\\\n",
       "\tTh3 &  2 &  2 &  1 &  2 &  6 &  2 &  2 &  2 &  2 & NA &  2\\\\\n",
       "\tTh3/RORGT+ &  2 &  2 &  2 & NA & NA &  1 &  3 &  2 &  2 &  1 &  2\\\\\n",
       "\tTh3/Th17 & NA & NA & NA & NA & NA & NA & NA & NA & NA & NA &  4\\\\\n",
       "\tTh3/Th17/RORGT+ & NA & NA & NA & NA & NA & NA & NA & NA &  2 & NA & NA\\\\\n",
       "\tTh3/Th3 & NA & NA & NA & NA &  1 & NA & NA & NA & NA & NA & NA\\\\\n",
       "\tTh3/Th3/RORGT+/Th0 & NA & NA & NA & NA & NA & NA & NA & NA & NA & NA &  1\\\\\n",
       "\tTreg &  4 &  4 &  2 & NA &  4 &  4 &  4 &  4 &  4 &  2 &  4\\\\\n",
       "\tnew &  0 &  0 &  0 &  0 &  1 &  0 &  0 &  0 &  2 &  0 &  2\\\\\n",
       "\tlost &  0 &  0 &  2 &  3 &  2 &  0 &  0 &  0 &  0 &  1 &  1\\\\\n",
       "\\end{tabular}\n"
      ],
      "text/markdown": [
       "\n",
       "| <!--/--> | WT | 1 | 2 | 3 | 4 | 5 | 6 | 7 | 8 | 9 | 10 | \n",
       "|---|---|---|---|---|---|---|---|---|---|---|---|---|\n",
       "| Th0 |  9 |  9 | NA |  5 |  9 |  9 |  7 |  9 |  7 |  4 |  5 | \n",
       "| Th0/Th0 |  1 |  1 | NA | NA |  1 |  1 |  1 |  1 |  1 |  1 | NA | \n",
       "| Th0/Th0/Th0 | NA | NA | NA | NA | NA | NA | NA | NA |  1 | NA | NA | \n",
       "| Th17 |  4 |  4 |  4 |  2 | NA |  4 |  4 |  4 |  2 |  2 |  4 | \n",
       "| Th3 |  2 |  2 |  1 |  2 |  6 |  2 |  2 |  2 |  2 | NA |  2 | \n",
       "| Th3/RORGT+ |  2 |  2 |  2 | NA | NA |  1 |  3 |  2 |  2 |  1 |  2 | \n",
       "| Th3/Th17 | NA | NA | NA | NA | NA | NA | NA | NA | NA | NA |  4 | \n",
       "| Th3/Th17/RORGT+ | NA | NA | NA | NA | NA | NA | NA | NA |  2 | NA | NA | \n",
       "| Th3/Th3 | NA | NA | NA | NA |  1 | NA | NA | NA | NA | NA | NA | \n",
       "| Th3/Th3/RORGT+/Th0 | NA | NA | NA | NA | NA | NA | NA | NA | NA | NA |  1 | \n",
       "| Treg |  4 |  4 |  2 | NA |  4 |  4 |  4 |  4 |  4 |  2 |  4 | \n",
       "| new |  0 |  0 |  0 |  0 |  1 |  0 |  0 |  0 |  2 |  0 |  2 | \n",
       "| lost |  0 |  0 |  2 |  3 |  2 |  0 |  0 |  0 |  0 |  1 |  1 | \n",
       "\n",
       "\n"
      ],
      "text/plain": [
       "                   WT 1  2  3  4  5  6  7  8  9  10\n",
       "Th0                 9  9 NA  5  9  9  7  9  7  4  5\n",
       "Th0/Th0             1  1 NA NA  1  1  1  1  1  1 NA\n",
       "Th0/Th0/Th0        NA NA NA NA NA NA NA NA  1 NA NA\n",
       "Th17                4  4  4  2 NA  4  4  4  2  2  4\n",
       "Th3                 2  2  1  2  6  2  2  2  2 NA  2\n",
       "Th3/RORGT+          2  2  2 NA NA  1  3  2  2  1  2\n",
       "Th3/Th17           NA NA NA NA NA NA NA NA NA NA  4\n",
       "Th3/Th17/RORGT+    NA NA NA NA NA NA NA NA  2 NA NA\n",
       "Th3/Th3            NA NA NA NA  1 NA NA NA NA NA NA\n",
       "Th3/Th3/RORGT+/Th0 NA NA NA NA NA NA NA NA NA NA  1\n",
       "Treg                4  4  2 NA  4  4  4  4  4  2  4\n",
       "new                 0  0  0  0  1  0  0  0  2  0  2\n",
       "lost                0  0  2  3  2  0  0  0  0  1  1"
      ]
     },
     "metadata": {},
     "output_type": "display_data"
    }
   ],
   "source": [
    "repetitions <- 10\n",
    "\n",
    "table2df <- function(x, cols=c(\"WT\")){\n",
    "    x <- data.frame(x)\n",
    "    rownames(x) <- x[[1]]\n",
    "    x[[1]] <- NULL\n",
    "    colnames(x) <- cols\n",
    "    x\n",
    "}\n",
    "\n",
    "netC.func <- table(labelAttractors(attrC, label.rules=rulesC))\n",
    "netC.func <- table2df(netC.func)\n",
    "\n",
    "for (i in seq(repetitions)) {\n",
    "    n <- getAttractors(perturbNetwork(netC))\n",
    "    n <- labelAttractors(n, label.rules=rulesC)\n",
    "    n <- table2df(table(n), i)\n",
    "    netC.func <- merge(netC.func, n, by=0, all=TRUE)\n",
    "    rownames(netC.func) <- netC.func$Row.names\n",
    "    netC.func$Row.names <- NULL\n",
    "}\n",
    "netC.func <- rbind(netC.func,\n",
    "                   countChangesDataframe(netC.func, axis=2))\n",
    "netC.func"
   ]
  },
  {
   "cell_type": "code",
   "execution_count": 16,
   "metadata": {},
   "outputs": [
    {
     "data": {
      "image/png": "[encoded data removed]",
      "text/plain": [
       "Plot with title “Labels win/lost by \n",
       " function perturbation”"
      ]
     },
     "metadata": {},
     "output_type": "display_data"
    }
   ],
   "source": [
    "repetitions <- 1000\n",
    "\n",
    "nets.func.avg <- mapply(function(x,y) {  \n",
    "        attr <- getAttractors(x)\n",
    "        df <- table(labelAttractors(attr, label.rules=y))\n",
    "        df <- table2df(df)\n",
    "        for (i in seq(repetitions)) {\n",
    "            n <- getAttractors(perturbNetwork(x))\n",
    "            n <- labelAttractors(n, label.rules=y)\n",
    "            n <- table2df(table(n), i)\n",
    "            df <- merge(df, n, by=0, all=TRUE)\n",
    "            rownames(df) <- df$Row.names\n",
    "            df$Row.names <- NULL\n",
    "        }\n",
    "        r <- countChangesDataframe(df, axis=2)\n",
    "        r <- rowSums(r)/repetitions #normilize by rep\n",
    "        r <- r/sum(df$WT!=0, na.rm=T) #normilize by labels\n",
    "    },x=nets, y=label.rules,SIMPLIFY = T)\n",
    "\n",
    "\n",
    "barplot(as.matrix(nets.func.avg),\n",
    "        main=\"Labels win/lost by \\n function perturbation\",\n",
    "        ylim=c(0,1), beside=F)"
   ]
  },
  {
   "cell_type": "markdown",
   "metadata": {},
   "source": [
    "### Transition space\n",
    "     [ ] Basins\n",
    "     [ ] Update\n",
    "     [ ] Reverse network naldi\n",
    "     [ ] Transitions boolnet and griffin"
   ]
  },
  {
   "cell_type": "code",
   "execution_count": 17,
   "metadata": {},
   "outputs": [
    {
     "data": {
      "image/png": "[encoded data removed]",
      "text/plain": [
       "Plot with title “Basins of attraction”"
      ]
     },
     "metadata": {},
     "output_type": "display_data"
    }
   ],
   "source": [
    "nets.attr.basin <- mapply(function(x,y) {\n",
    "    attr <- getAttractors(x)\n",
    "    df <- attractors2dataframe(list(attr),returnDataFrame='basinSize')\n",
    "    df <- aggregateByLabel(df, x$genes, y)\n",
    "    df[order(df[1], decreasing = TRUE),]\n",
    "    },x=nets, y=label.rules)\n",
    "\n",
    "\n",
    "nets.attr.basin <- lapply(nets.attr.basin, `length<-`, max(lengths(nets.attr.basin)))\n",
    "nets.attr.basin <- data.frame(nets.attr.basin)\n",
    "colnames(nets.attr.basin) = nets.names\n",
    "barplot(as.matrix(data.frame(nets.attr.basin)),\n",
    "        main=\"Basins of attraction\",\n",
    "        beside=F)"
   ]
  },
  {
   "cell_type": "code",
   "execution_count": 18,
   "metadata": {},
   "outputs": [],
   "source": [
    "source(\"code/BNP_Perturbations.R\")"
   ]
  },
  {
   "cell_type": "code",
   "execution_count": 19,
   "metadata": {},
   "outputs": [
    {
     "data": {
      "text/html": [
       "<table>\n",
       "<thead><tr><th></th><th scope=col>sync.Freq</th><th scope=col>async.Freq</th></tr></thead>\n",
       "<tbody>\n",
       "\t<tr><th scope=row>Th0</th><td> 9</td><td> 9</td></tr>\n",
       "\t<tr><th scope=row>Th0/Th0</th><td> 1</td><td>NA</td></tr>\n",
       "\t<tr><th scope=row>Th17</th><td> 4</td><td> 4</td></tr>\n",
       "\t<tr><th scope=row>Th3</th><td> 2</td><td> 2</td></tr>\n",
       "\t<tr><th scope=row>Th3/RORGT+</th><td> 2</td><td>NA</td></tr>\n",
       "\t<tr><th scope=row>Treg</th><td> 4</td><td> 4</td></tr>\n",
       "\t<tr><th scope=row>Total</th><td>22</td><td>19</td></tr>\n",
       "</tbody>\n",
       "</table>\n"
      ],
      "text/latex": [
       "\\begin{tabular}{r|ll}\n",
       "  & sync.Freq & async.Freq\\\\\n",
       "\\hline\n",
       "\tTh0 &  9 &  9\\\\\n",
       "\tTh0/Th0 &  1 & NA\\\\\n",
       "\tTh17 &  4 &  4\\\\\n",
       "\tTh3 &  2 &  2\\\\\n",
       "\tTh3/RORGT+ &  2 & NA\\\\\n",
       "\tTreg &  4 &  4\\\\\n",
       "\tTotal & 22 & 19\\\\\n",
       "\\end{tabular}\n"
      ],
      "text/markdown": [
       "\n",
       "| <!--/--> | sync.Freq | async.Freq | \n",
       "|---|---|---|---|---|---|---|\n",
       "| Th0 |  9 |  9 | \n",
       "| Th0/Th0 |  1 | NA | \n",
       "| Th17 |  4 |  4 | \n",
       "| Th3 |  2 |  2 | \n",
       "| Th3/RORGT+ |  2 | NA | \n",
       "| Treg |  4 |  4 | \n",
       "| Total | 22 | 19 | \n",
       "\n",
       "\n"
      ],
      "text/plain": [
       "           sync.Freq async.Freq\n",
       "Th0         9         9        \n",
       "Th0/Th0     1        NA        \n",
       "Th17        4         4        \n",
       "Th3         2         2        \n",
       "Th3/RORGT+  2        NA        \n",
       "Treg        4         4        \n",
       "Total      22        19        "
      ]
     },
     "metadata": {},
     "output_type": "display_data"
    }
   ],
   "source": [
    "#verifyAttractorSyncronousVsAsyncronous(netC)\n",
    "verifySyncronousVsAsyncronous(netC, label.rules=rulesC)"
   ]
  },
  {
   "cell_type": "code",
   "execution_count": 20,
   "metadata": {},
   "outputs": [
    {
     "data": {
      "image/png": "[encoded data removed]",
      "text/plain": [
       "Plot with title “Attractor lost by update”"
      ]
     },
     "metadata": {},
     "output_type": "display_data"
    }
   ],
   "source": [
    "nets.update.label <- mapply(function(x,y) {verifySyncronousVsAsyncronous(x,label.rules=y)},\n",
    "                            x=nets, y=label.rules,\n",
    "                            SIMPLIFY = F)\n",
    "\n",
    "# Normalize and save average, only counts labels\n",
    "nets.update.avg <- lapply(nets.update.label, function(n) {\n",
    "    res <- countChangesDataframe(n, reference=\"sync.Freq\", axis=2)\n",
    "    res <- data.frame(res)\n",
    "    res <- res/sum(n$sync.Freq!=0)\n",
    "    rowMeans(res)\n",
    "})\n",
    "nets.update.avg <- data.frame(nets.update.avg)\n",
    "colnames(nets.update.avg) = nets.names\n",
    "barplot(as.matrix(nets.update.avg),\n",
    "        main=\"Attractor lost by update\",\n",
    "        ylim=c(0,1), beside=F)"
   ]
  },
  {
   "cell_type": "markdown",
   "metadata": {},
   "source": [
    "### States and attractors\n",
    "    [ ] Trajectory\n",
    "    [ ] Attractors"
   ]
  },
  {
   "cell_type": "code",
   "execution_count": 21,
   "metadata": {},
   "outputs": [],
   "source": [
    "#source('code/BNP_Helper.R')\n",
    "#source('code/BNP_Dataframe.R')\n",
    "#source('code/BNP_Topology.R')\n",
    "#source('code/BNP_Label.R')\n",
    "source('code/BNP_Perturbations.R')"
   ]
  },
  {
   "cell_type": "code",
   "execution_count": 22,
   "metadata": {},
   "outputs": [
    {
     "data": {
      "text/html": [
       "<table>\n",
       "<thead><tr><th></th><th scope=col>FOXP3</th><th scope=col>TGFB</th><th scope=col>IL2</th><th scope=col>IL21</th><th scope=col>RORGT</th><th scope=col>TGFBe</th><th scope=col>IL2e</th><th scope=col>IL21e</th></tr></thead>\n",
       "<tbody>\n",
       "\t<tr><th scope=row>1</th><td>1</td><td>1</td><td>0</td><td>0</td><td>1</td><td>0</td><td>1</td><td>1</td></tr>\n",
       "\t<tr><th scope=row>2</th><td>0</td><td>1</td><td>0</td><td>0</td><td>1</td><td>0</td><td>1</td><td>1</td></tr>\n",
       "\t<tr><th scope=row>3</th><td>0</td><td>1</td><td>1</td><td>1</td><td>0</td><td>0</td><td>1</td><td>1</td></tr>\n",
       "\t<tr><th scope=row>4</th><td>0</td><td>0</td><td>0</td><td>0</td><td>1</td><td>0</td><td>1</td><td>1</td></tr>\n",
       "\t<tr><th scope=row>5</th><td>0</td><td>0</td><td>1</td><td>1</td><td>0</td><td>0</td><td>1</td><td>1</td></tr>\n",
       "\t<tr><th scope=row>6</th><td>0</td><td>0</td><td>0</td><td>0</td><td>0</td><td>0</td><td>1</td><td>1</td></tr>\n",
       "</tbody>\n",
       "</table>\n"
      ],
      "text/latex": [
       "\\begin{tabular}{r|llllllll}\n",
       "  & FOXP3 & TGFB & IL2 & IL21 & RORGT & TGFBe & IL2e & IL21e\\\\\n",
       "\\hline\n",
       "\t1 & 1 & 1 & 0 & 0 & 1 & 0 & 1 & 1\\\\\n",
       "\t2 & 0 & 1 & 0 & 0 & 1 & 0 & 1 & 1\\\\\n",
       "\t3 & 0 & 1 & 1 & 1 & 0 & 0 & 1 & 1\\\\\n",
       "\t4 & 0 & 0 & 0 & 0 & 1 & 0 & 1 & 1\\\\\n",
       "\t5 & 0 & 0 & 1 & 1 & 0 & 0 & 1 & 1\\\\\n",
       "\t6 & 0 & 0 & 0 & 0 & 0 & 0 & 1 & 1\\\\\n",
       "\\end{tabular}\n"
      ],
      "text/markdown": [
       "\n",
       "| <!--/--> | FOXP3 | TGFB | IL2 | IL21 | RORGT | TGFBe | IL2e | IL21e | \n",
       "|---|---|---|---|---|---|\n",
       "| 1 | 1 | 1 | 0 | 0 | 1 | 0 | 1 | 1 | \n",
       "| 2 | 0 | 1 | 0 | 0 | 1 | 0 | 1 | 1 | \n",
       "| 3 | 0 | 1 | 1 | 1 | 0 | 0 | 1 | 1 | \n",
       "| 4 | 0 | 0 | 0 | 0 | 1 | 0 | 1 | 1 | \n",
       "| 5 | 0 | 0 | 1 | 1 | 0 | 0 | 1 | 1 | \n",
       "| 6 | 0 | 0 | 0 | 0 | 0 | 0 | 1 | 1 | \n",
       "\n",
       "\n"
      ],
      "text/plain": [
       "  FOXP3 TGFB IL2 IL21 RORGT TGFBe IL2e IL21e\n",
       "1 1     1    0   0    1     0     1    1    \n",
       "2 0     1    0   0    1     0     1    1    \n",
       "3 0     1    1   1    0     0     1    1    \n",
       "4 0     0    0   0    1     0     1    1    \n",
       "5 0     0    1   1    0     0     1    1    \n",
       "6 0     0    0   0    0     0     1    1    "
      ]
     },
     "metadata": {},
     "output_type": "display_data"
    }
   ],
   "source": [
    "perturbState(netC, result=\"trajectory\")"
   ]
  },
  {
   "cell_type": "code",
   "execution_count": 23,
   "metadata": {},
   "outputs": [
    {
     "data": {
      "text/html": [
       "<table>\n",
       "<thead><tr><th scope=col>initial</th><th scope=col>final</th><th scope=col>genes</th><th scope=col>values</th></tr></thead>\n",
       "<tbody>\n",
       "\t<tr><td>Th0  </td><td>Treg </td><td>FOXP3</td><td>1    </td></tr>\n",
       "\t<tr><td>Th0 </td><td>Treg</td><td>TGFB</td><td>1   </td></tr>\n",
       "\t<tr><td>Th0 </td><td>Th0 </td><td>IL2 </td><td>0   </td></tr>\n",
       "\t<tr><td>Th0 </td><td>Th0 </td><td>IL21</td><td>1   </td></tr>\n",
       "\t<tr><td>Th0  </td><td>Th0  </td><td>RORGT</td><td>1    </td></tr>\n",
       "\t<tr><td>Th0  </td><td>Treg </td><td>TGFBe</td><td>1    </td></tr>\n",
       "</tbody>\n",
       "</table>\n"
      ],
      "text/latex": [
       "\\begin{tabular}{r|llll}\n",
       " initial & final & genes & values\\\\\n",
       "\\hline\n",
       "\t Th0   & Treg  & FOXP3 & 1    \\\\\n",
       "\t Th0  & Treg & TGFB & 1   \\\\\n",
       "\t Th0  & Th0  & IL2  & 0   \\\\\n",
       "\t Th0  & Th0  & IL21 & 1   \\\\\n",
       "\t Th0   & Th0   & RORGT & 1    \\\\\n",
       "\t Th0   & Treg  & TGFBe & 1    \\\\\n",
       "\\end{tabular}\n"
      ],
      "text/markdown": [
       "\n",
       "initial | final | genes | values | \n",
       "|---|---|---|---|---|---|\n",
       "| Th0   | Treg  | FOXP3 | 1     | \n",
       "| Th0  | Treg | TGFB | 1    | \n",
       "| Th0  | Th0  | IL2  | 0    | \n",
       "| Th0  | Th0  | IL21 | 1    | \n",
       "| Th0   | Th0   | RORGT | 1     | \n",
       "| Th0   | Treg  | TGFBe | 1     | \n",
       "\n",
       "\n"
      ],
      "text/plain": [
       "  initial final genes values\n",
       "1 Th0     Treg  FOXP3 1     \n",
       "2 Th0     Treg  TGFB  1     \n",
       "3 Th0     Th0   IL2   0     \n",
       "4 Th0     Th0   IL21  1     \n",
       "5 Th0     Th0   RORGT 1     \n",
       "6 Th0     Treg  TGFBe 1     "
      ]
     },
     "metadata": {},
     "output_type": "display_data"
    }
   ],
   "source": [
    "netC.Fate.Map <- cellFateMap(netC, label.rules=rulesC)\n",
    "head(netC.Fate.Map)"
   ]
  },
  {
   "cell_type": "code",
   "execution_count": 24,
   "metadata": {},
   "outputs": [
    {
     "data": {
      "text/html": [
       "0.375"
      ],
      "text/latex": [
       "0.375"
      ],
      "text/markdown": [
       "0.375"
      ],
      "text/plain": [
       "[1] 0.375"
      ]
     },
     "metadata": {},
     "output_type": "display_data"
    },
    {
     "data": {
      "text/html": [
       "<table>\n",
       "<thead><tr><th></th><th scope=col>initial</th><th scope=col>final</th><th scope=col>freq</th></tr></thead>\n",
       "<tbody>\n",
       "\t<tr><th scope=row>4</th><td>Th0       </td><td>Th0/Th0   </td><td>10        </td></tr>\n",
       "\t<tr><th scope=row>11</th><td>Th3       </td><td>Th3/RORGT+</td><td>10        </td></tr>\n",
       "\t<tr><th scope=row>2</th><td>RORGT+    </td><td>Th3/RORGT+</td><td> 7        </td></tr>\n",
       "\t<tr><th scope=row>5</th><td>Th0       </td><td>Th3       </td><td> 6        </td></tr>\n",
       "\t<tr><th scope=row>6</th><td>Th0       </td><td>Treg      </td><td> 6        </td></tr>\n",
       "\t<tr><th scope=row>3</th><td>RORGT+    </td><td>Treg      </td><td> 5        </td></tr>\n",
       "\t<tr><th scope=row>10</th><td>Th3       </td><td>Th17      </td><td> 5        </td></tr>\n",
       "\t<tr><th scope=row>1</th><td>RORGT+    </td><td>Th17      </td><td> 4        </td></tr>\n",
       "\t<tr><th scope=row>8</th><td>Th17      </td><td>Treg      </td><td> 4        </td></tr>\n",
       "\t<tr><th scope=row>9</th><td>Th3       </td><td>Th0       </td><td> 4        </td></tr>\n",
       "\t<tr><th scope=row>12</th><td>Th3       </td><td>Treg      </td><td> 4        </td></tr>\n",
       "\t<tr><th scope=row>13</th><td>Treg      </td><td>Th0       </td><td> 3        </td></tr>\n",
       "\t<tr><th scope=row>15</th><td>Treg      </td><td>Th17      </td><td> 3        </td></tr>\n",
       "\t<tr><th scope=row>7</th><td>Th17      </td><td>Th3       </td><td> 2        </td></tr>\n",
       "\t<tr><th scope=row>14</th><td>Treg      </td><td>Th0/Th0   </td><td> 1        </td></tr>\n",
       "\t<tr><th scope=row>16</th><td>Treg      </td><td>Th3/RORGT+</td><td> 1        </td></tr>\n",
       "</tbody>\n",
       "</table>\n"
      ],
      "text/latex": [
       "\\begin{tabular}{r|lll}\n",
       "  & initial & final & freq\\\\\n",
       "\\hline\n",
       "\t4 & Th0        & Th0/Th0    & 10        \\\\\n",
       "\t11 & Th3        & Th3/RORGT+ & 10        \\\\\n",
       "\t2 & RORGT+     & Th3/RORGT+ &  7        \\\\\n",
       "\t5 & Th0        & Th3        &  6        \\\\\n",
       "\t6 & Th0        & Treg       &  6        \\\\\n",
       "\t3 & RORGT+     & Treg       &  5        \\\\\n",
       "\t10 & Th3        & Th17       &  5        \\\\\n",
       "\t1 & RORGT+     & Th17       &  4        \\\\\n",
       "\t8 & Th17       & Treg       &  4        \\\\\n",
       "\t9 & Th3        & Th0        &  4        \\\\\n",
       "\t12 & Th3        & Treg       &  4        \\\\\n",
       "\t13 & Treg       & Th0        &  3        \\\\\n",
       "\t15 & Treg       & Th17       &  3        \\\\\n",
       "\t7 & Th17       & Th3        &  2        \\\\\n",
       "\t14 & Treg       & Th0/Th0    &  1        \\\\\n",
       "\t16 & Treg       & Th3/RORGT+ &  1        \\\\\n",
       "\\end{tabular}\n"
      ],
      "text/markdown": [
       "\n",
       "| <!--/--> | initial | final | freq | \n",
       "|---|---|---|---|---|---|---|---|---|---|---|---|---|---|---|---|\n",
       "| 4 | Th0        | Th0/Th0    | 10         | \n",
       "| 11 | Th3        | Th3/RORGT+ | 10         | \n",
       "| 2 | RORGT+     | Th3/RORGT+ |  7         | \n",
       "| 5 | Th0        | Th3        |  6         | \n",
       "| 6 | Th0        | Treg       |  6         | \n",
       "| 3 | RORGT+     | Treg       |  5         | \n",
       "| 10 | Th3        | Th17       |  5         | \n",
       "| 1 | RORGT+     | Th17       |  4         | \n",
       "| 8 | Th17       | Treg       |  4         | \n",
       "| 9 | Th3        | Th0        |  4         | \n",
       "| 12 | Th3        | Treg       |  4         | \n",
       "| 13 | Treg       | Th0        |  3         | \n",
       "| 15 | Treg       | Th17       |  3         | \n",
       "| 7 | Th17       | Th3        |  2         | \n",
       "| 14 | Treg       | Th0/Th0    |  1         | \n",
       "| 16 | Treg       | Th3/RORGT+ |  1         | \n",
       "\n",
       "\n"
      ],
      "text/plain": [
       "   initial final      freq\n",
       "4  Th0     Th0/Th0    10  \n",
       "11 Th3     Th3/RORGT+ 10  \n",
       "2  RORGT+  Th3/RORGT+  7  \n",
       "5  Th0     Th3         6  \n",
       "6  Th0     Treg        6  \n",
       "3  RORGT+  Treg        5  \n",
       "10 Th3     Th17        5  \n",
       "1  RORGT+  Th17        4  \n",
       "8  Th17    Treg        4  \n",
       "9  Th3     Th0         4  \n",
       "12 Th3     Treg        4  \n",
       "13 Treg    Th0         3  \n",
       "15 Treg    Th17        3  \n",
       "7  Th17    Th3         2  \n",
       "14 Treg    Th0/Th0     1  \n",
       "16 Treg    Th3/RORGT+  1  "
      ]
     },
     "metadata": {},
     "output_type": "display_data"
    }
   ],
   "source": [
    "# using plyr::count\n",
    "\n",
    "netC.transitions <- count(subset(netC.Fate.Map,initial!=final), c(\"initial\", \"final\"))\n",
    "netC.transitions <- netC.transitions[order(netC.transitions$freq,decreasing=T),]\n",
    "\n",
    "sum(netC.transitions[\"freq\"])/dim(netC.Fate.Map)[1]\n",
    "netC.transitions"
   ]
  },
  {
   "cell_type": "code",
   "execution_count": 25,
   "metadata": {},
   "outputs": [
    {
     "data": {
      "image/png": "[encoded data removed]",
      "text/plain": [
       "Plot with title “Transitions by transient perturbation ”"
      ]
     },
     "metadata": {},
     "output_type": "display_data"
    }
   ],
   "source": [
    "nets.transitions <- mapply(function(x,y) {\n",
    "    df <- cellFateMap(x,label.rules=y)\n",
    "    diff <- count(subset(df,initial!=final), c(\"initial\", \"final\"))\n",
    "    sum(diff[\"freq\"])/dim(df)[1]\n",
    "    },\n",
    "    x=nets, y=label.rules,SIMPLIFY = F)\n",
    "\n",
    "nets.transitions <- data.frame(nets.transitions)\n",
    "colnames(nets.transitions) = nets.names\n",
    "barplot(as.matrix(nets.transitions),\n",
    "        main=\"Transitions by transient perturbation \",\n",
    "        ylim=c(0,1), beside=F)"
   ]
  }
 ],
 "metadata": {
  "kernelspec": {
   "display_name": "R",
   "language": "R",
   "name": "ir"
  },
  "language_info": {
   "codemirror_mode": "r",
   "file_extension": ".r",
   "mimetype": "text/x-r-source",
   "name": "R",
   "pygments_lexer": "r",
   "version": "3.2.3"
  }
 },
 "nbformat": 4,
 "nbformat_minor": 2
}
